{
  "nbformat": 4,
  "nbformat_minor": 0,
  "metadata": {
    "colab": {
      "provenance": []
    },
    "kernelspec": {
      "name": "python3",
      "display_name": "Python 3"
    },
    "language_info": {
      "name": "python"
    }
  },
  "cells": [
    {
      "cell_type": "code",
      "execution_count": null,
      "metadata": {
        "id": "mF-RAI0TXcLw"
      },
      "outputs": [],
      "source": [
        "import pandas as pd\n",
        "from google.colab import files\n",
        "\n",
        "uploaded = files.upload()\n",
        "\n",
        "f = pd.read_csv(\"netflix_titles.csv\")\n",
        "\n",
        "# Display info before Cleaning\n",
        "print(\"Dataset shape before cleaning:\", f.shape)\n",
        "\n",
        "# Identify missing values\n",
        "print(\"\\nMissing values per column:\")\n",
        "print(f.isnull().sum())\n",
        "\n",
        "# Remove Duplicates rows\n",
        "f = f.drop_duplicates()\n",
        "\n",
        "# Replace missing values in the cell by 'Unknown'\n",
        "f['director'] = f['director'].fillna(\"Unknown\")\n",
        "f['cast'] = f['cast'].fillna(\"Unknown\")\n",
        "f['country'] = f['country'].fillna(\"Unknown\")\n",
        "f['date_added'] = f['date_added'].fillna(\"Unknown\")\n",
        "f['rating'] = f['rating'].fillna(\"Unknown\")\n",
        "f['duration'] = f['duration'].fillna(\"Unknown\")\n",
        "\n",
        "\n",
        "# Standardize text values\n",
        "f['country'] = f['country'].replace({\n",
        "    'United States': 'USA',\n",
        "    'United Kingdom': 'UK',\n",
        "    'Canada': 'CA',\n",
        "    'United Arab Emirates': 'UAE'\n",
        "})\n",
        "\n",
        "# Rename columns to lowercase & remove spaces\n",
        "f.columns = [col.lower().strip().replace(\" \", \"_\") for col in f.columns]\n",
        "\n",
        "# Convert 'date_added' to date-time (dd-mm-yyyy) format\n",
        "f['date_added'] = f['date_added'].astype(str).str.strip()\n",
        "f = f[f['date_added'] != 'Unknown']\n",
        "f['date_added'] = pd.to_datetime(f['date_added'])\n",
        "f['date_added'] = f['date_added'].dt.strftime('%d-%m-%Y')\n",
        "\n",
        "\n",
        "print(\"\\nDataset shape after cleaning:\", f.shape)\n",
        "print(\"\\nCleaned sample:\")\n",
        "print(f.head())\n",
        "\n",
        "# Save cleaned dataset to CSV\n",
        "f.to_csv(\"Cleaned_Netflix.csv\", index=False)\n",
        "files.download(\"Cleaned_Netflix.csv\")\n"
      ]
    }
  ]
}